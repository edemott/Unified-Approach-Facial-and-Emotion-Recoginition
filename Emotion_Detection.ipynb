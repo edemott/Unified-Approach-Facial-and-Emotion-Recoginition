{
 "cells": [
  {
   "cell_type": "code",
   "execution_count": 16,
   "id": "2b11140d",
   "metadata": {},
   "outputs": [],
   "source": [
    "import pandas as pd\n",
    "import numpy as np\n",
    "import matplotlib.pyplot as plt\n",
    "import tensorflow as tf\n",
    "from tensorflow.keras import layers, models, callbacks\n",
    "import os\n",
    "from PIL import Image\n",
    "import sklearn "
   ]
  },
  {
   "cell_type": "code",
   "execution_count": 2,
   "id": "7f74e38e",
   "metadata": {},
   "outputs": [],
   "source": [
    "def load_dataset(path, target_size=(48, 48)):\n",
    "    images = []\n",
    "    labels = []\n",
    "    \n",
    "    for emotion_folder in os.listdir(path):\n",
    "        emotion_path = os.path.join(path, emotion_folder)\n",
    "        \n",
    "        if os.path.isdir(emotion_path):\n",
    "            for image_file in os.listdir(emotion_path):\n",
    "                image_path = os.path.join(emotion_path, image_file)\n",
    "                \n",
    "                # Open the image using PIL and resize it\n",
    "                img = Image.open(image_path).resize(target_size)\n",
    "                \n",
    "                # Convert image to numpy array, normalize pixel values, and add channel dimension\n",
    "                img_array = np.expand_dims(np.array(img) / 255.0, axis=-1 if img.mode == 'L' else -1)\n",
    "                \n",
    "                # Append the image and its label to the lists\n",
    "                images.append(img_array)\n",
    "                labels.append(emotion_folder)\n",
    "    \n",
    "    return np.array(images), np.array(labels)"
   ]
  },
  {
   "cell_type": "code",
   "execution_count": 3,
   "id": "952c6ffe",
   "metadata": {},
   "outputs": [],
   "source": [
    "dataset_path = 'archive'\n",
    "training_path = os.path.join(dataset_path, 'train')\n",
    "testing_path = os.path.join(dataset_path, 'test')\n",
    "\n",
    "# Assuming your images should be resized to (48, 48)\n",
    "target_size = (48, 48)\n",
    "training_images, training_labels = load_dataset(training_path, target_size=target_size)\n",
    "testing_images, testing_labels = load_dataset(testing_path, target_size=target_size)"
   ]
  },
  {
   "cell_type": "code",
   "execution_count": 4,
   "id": "2837fbf9",
   "metadata": {},
   "outputs": [
    {
     "data": {
      "image/png": "[encoded data removed]",
      "text/plain": [
       "<Figure size 640x480 with 1 Axes>"
      ]
     },
     "metadata": {},
     "output_type": "display_data"
    }
   ],
   "source": [
    "sample_image_path = os.path.join(training_path, 'happy', 'im5776.png')\n",
    "sample_img = Image.open(sample_image_path)\n",
    "\n",
    "\n",
    "plt.imshow(sample_img)\n",
    "plt.title('Happy Image')\n",
    "plt.show()"
   ]
  },
  {
   "cell_type": "code",
   "execution_count": 5,
   "id": "db25151d",
   "metadata": {},
   "outputs": [],
   "source": [
    "label_to_index = {label: index for index, label in enumerate(np.unique(training_labels))}\n",
    "training_labels = np.array([label_to_index[label] for label in training_labels])\n",
    "\n",
    "testing_labels = np.array([label_to_index[label] for label in testing_labels])\n",
    "\n",
    "input_shape = (*target_size, 1 if training_images.shape[-1] == 1 else 3)\n"
   ]
  },
  {
   "cell_type": "code",
   "execution_count": 18,
   "id": "fc571aa2",
   "metadata": {},
   "outputs": [
    {
     "name": "stdout",
     "output_type": "stream",
     "text": [
      "Epoch 1/10\n",
      "898/898 [==============================] - 46s 51ms/step - loss: 1.7598 - accuracy: 0.3155 - val_loss: 2.0094 - val_accuracy: 0.2098\n",
      "Epoch 2/10\n",
      "898/898 [==============================] - 46s 51ms/step - loss: 1.4639 - accuracy: 0.4342 - val_loss: 1.4161 - val_accuracy: 0.4515\n",
      "Epoch 3/10\n",
      "898/898 [==============================] - 45s 50ms/step - loss: 1.3541 - accuracy: 0.4805 - val_loss: 1.3730 - val_accuracy: 0.4772\n",
      "Epoch 4/10\n",
      "898/898 [==============================] - 59s 65ms/step - loss: 1.2883 - accuracy: 0.5115 - val_loss: 1.3181 - val_accuracy: 0.4905\n",
      "Epoch 5/10\n",
      "898/898 [==============================] - 49s 55ms/step - loss: 1.2347 - accuracy: 0.5336 - val_loss: 1.3054 - val_accuracy: 0.5010\n",
      "Epoch 6/10\n",
      "898/898 [==============================] - 47s 52ms/step - loss: 1.1938 - accuracy: 0.5485 - val_loss: 1.2914 - val_accuracy: 0.5162\n",
      "Epoch 7/10\n",
      "898/898 [==============================] - 51s 57ms/step - loss: 1.1615 - accuracy: 0.5612 - val_loss: 1.3097 - val_accuracy: 0.4935\n"
     ]
    },
    {
     "data": {
      "text/plain": [
       "<keras.callbacks.History at 0x167dc3370>"
      ]
     },
     "execution_count": 18,
     "metadata": {},
     "output_type": "execute_result"
    }
   ],
   "source": [
    "model = models.Sequential([\n",
    "    layers.Conv2D(128, (3,3) , activation='relu', input_shape=input_shape),\n",
    "    layers.MaxPooling2D((2, 2)),\n",
    "    layers.BatchNormalization(),\n",
    "    \n",
    "    layers.Conv2D(32, (3, 3), activation='relu'),\n",
    "    layers.MaxPooling2D((2, 2)),\n",
    "    layers.BatchNormalization(),\n",
    "    \n",
    "    layers.Conv2D(16, (3,3) , activation='relu', input_shape=input_shape),\n",
    "    layers.MaxPooling2D((2, 2)),\n",
    "    layers.BatchNormalization(),\n",
    "    \n",
    "    layers.Flatten(),\n",
    "    \n",
    "    layers.Dense(32, activation='relu'),\n",
    "#     layers.Dropout(0.5),\n",
    "    layers.BatchNormalization(),\n",
    "    \n",
    "    layers.Dense(16, activation='relu'),\n",
    "#     layers.Dropout(0.5),\n",
    "    layers.BatchNormalization(),\n",
    "    \n",
    "    layers.Dense(len(label_to_index), activation='softmax')])\n",
    "\n",
    "model.compile(optimizer='adam' ,\n",
    "              loss='sparse_categorical_crossentropy',\n",
    "              metrics=['accuracy'],)\n",
    "\n",
    "early_stopping = callbacks.EarlyStopping(\n",
    "    monitor='val_accuracy',  \n",
    "    patience=1,  \n",
    "    restore_best_weights=True,\n",
    "    min_delta=.0001)\n",
    "\n",
    "\n",
    "model.fit(training_images, training_labels, epochs=10, validation_data=(testing_images, testing_labels),callbacks=[early_stopping])"
   ]
  },
  {
   "cell_type": "code",
   "execution_count": 19,
   "id": "27a14e6a",
   "metadata": {},
   "outputs": [
    {
     "name": "stdout",
     "output_type": "stream",
     "text": [
      "225/225 [==============================] - 3s 12ms/step - loss: 1.2914 - accuracy: 0.5162\n",
      "Accuracy on testing data: 51.62%\n"
     ]
    }
   ],
   "source": [
    "_, accuracy = model.evaluate(testing_images, testing_labels)\n",
    "print(f\"Accuracy on testing data: {accuracy * 100:.2f}%\")"
   ]
  },
  {
   "cell_type": "code",
   "execution_count": 20,
   "id": "ff5194e3",
   "metadata": {},
   "outputs": [
    {
     "name": "stdout",
     "output_type": "stream",
     "text": [
      "1/1 [==============================] - 0s 67ms/step\n",
      "Predicted emotion: happy\n"
     ]
    }
   ],
   "source": [
    "from PIL import Image\n",
    "\n",
    "def preprocess_image(image_path, target_size=(48, 48), grayscale=True):\n",
    "\n",
    "    img = Image.open(image_path)\n",
    "\n",
    "    if grayscale and img.mode != 'L':\n",
    "        img = img.convert('L')\n",
    "\n",
    "    img = img.resize(target_size)\n",
    "\n",
    "    img_array = np.expand_dims(np.array(img) / 255.0, axis=-1 if grayscale else -1)\n",
    "\n",
    "    return img_array\n",
    " \n",
    "local_image_path = 'UNKNOWN.jpeg' #Happy\n",
    " \n",
    "\n",
    "input_image = preprocess_image(local_image_path)\n",
    "\n",
    "predictions = model.predict(np.array([input_image]))\n",
    "\n",
    "\n",
    "predicted_label = np.argmax(predictions[0])\n",
    "\n",
    "index_to_label = {index: label for label, index in label_to_index.items()}\n",
    "\n",
    "predicted_emotion = index_to_label[predicted_label]\n",
    "\n",
    "print(f\"Predicted emotion: {predicted_emotion}\")\n"
   ]
  },
  {
   "cell_type": "code",
   "execution_count": 21,
   "id": "e085708a",
   "metadata": {},
   "outputs": [
    {
     "name": "stdout",
     "output_type": "stream",
     "text": [
      "1/1 [==============================] - 0s 11ms/step\n",
      "Predicted emotion: angry\n"
     ]
    }
   ],
   "source": [
    "local_image_path = '347901832.jpg'  #sad \n",
    "\n",
    "\n",
    "input_image = preprocess_image(local_image_path)\n",
    "\n",
    "predictions = model.predict(np.array([input_image]))\n",
    "\n",
    "\n",
    "predicted_label = np.argmax(predictions[0])\n",
    "\n",
    "index_to_label = {index: label for label, index in label_to_index.items()}\n",
    "\n",
    "predicted_emotion = index_to_label[predicted_label]\n",
    "\n",
    "print(f\"Predicted emotion: {predicted_emotion}\")"
   ]
  },
  {
   "cell_type": "code",
   "execution_count": 22,
   "id": "22be20dc",
   "metadata": {},
   "outputs": [
    {
     "name": "stdout",
     "output_type": "stream",
     "text": [
      "1/1 [==============================] - 0s 15ms/step\n",
      "Predicted emotion: angry\n"
     ]
    }
   ],
   "source": [
    "local_image_path = '56831e52417cc9f8aa9ee634739fd7d2.jpg'  #angry\n",
    "\n",
    "\n",
    "input_image = preprocess_image(local_image_path)\n",
    "\n",
    "predictions = model.predict(np.array([input_image]))\n",
    "\n",
    "\n",
    "predicted_label = np.argmax(predictions[0])\n",
    "\n",
    "index_to_label = {index: label for label, index in label_to_index.items()}\n",
    "predicted_emotion = index_to_label[predicted_label]\n",
    "\n",
    "print(f\"Predicted emotion: {predicted_emotion}\")"
   ]
  },
  {
   "cell_type": "code",
   "execution_count": 101,
   "id": "ab7f42a1",
   "metadata": {},
   "outputs": [
    {
     "data": {
      "text/plain": [
       "{'angry': 0,\n",
       " 'disgusted': 1,\n",
       " 'fearful': 2,\n",
       " 'happy': 3,\n",
       " 'neutral': 4,\n",
       " 'sad': 5,\n",
       " 'surprised': 6}"
      ]
     },
     "execution_count": 101,
     "metadata": {},
     "output_type": "execute_result"
    }
   ],
   "source": [
    "label_to_index"
   ]
  },
  {
   "cell_type": "code",
   "execution_count": null,
   "id": "50521d8e",
   "metadata": {},
   "outputs": [],
   "source": []
  }
 ],
 "metadata": {
  "kernelspec": {
   "display_name": "Python 3 (ipykernel)",
   "language": "python",
   "name": "python3"
  },
  "language_info": {
   "codemirror_mode": {
    "name": "ipython",
    "version": 3
   },
   "file_extension": ".py",
   "mimetype": "text/x-python",
   "name": "python",
   "nbconvert_exporter": "python",
   "pygments_lexer": "ipython3",
   "version": "3.10.8"
  }
 },
 "nbformat": 4,
 "nbformat_minor": 5
}
